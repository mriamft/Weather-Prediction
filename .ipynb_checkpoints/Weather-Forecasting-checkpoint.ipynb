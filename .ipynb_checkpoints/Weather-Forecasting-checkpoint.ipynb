{
 "cells": [
  {
   "cell_type": "markdown",
   "id": "2e5e00ce",
   "metadata": {},
   "source": [
    "# Intro:\n",
    "Weather-forcasting model is a model to be developed concerned with predicting weather states for the future based on past few years' data to support Tourism in Riyadh, Saudi Arabia.\n",
    "For developing a weather-forcasting model, we will start by implementing data cleaning and EDA tasks, these tasks will help us to prepare our data for analysis, visualize data , gain insights about data and make the model more effiecent and accurate."
   ]
  },
  {
   "cell_type": "markdown",
   "id": "e677a4f3",
   "metadata": {},
   "source": [
    "## Import libraries:\n",
    "we will import all the libraries that we need to complete our EDA and data cleaning tasks"
   ]
  },
  {
   "cell_type": "code",
   "execution_count": 1,
   "id": "9e6881ed",
   "metadata": {},
   "outputs": [],
   "source": [
    "#Start by importing API library\n",
    "\n",
    "import openmeteo_requests"
   ]
  },
  {
   "cell_type": "code",
   "execution_count": 2,
   "id": "4ad87610",
   "metadata": {},
   "outputs": [],
   "source": [
    "#Import any other needed libraries\n",
    "\n",
    "import requests_cache\n",
    "import pandas as pd\n",
    "from retry_requests import retry\n",
    "import numpy as np\n",
    "import matplotlib.pyplot as plt\n",
    "import seaborn as sns\n",
    "sns.set_style('darkgrid')\n",
    "\n",
    "import plotly.express as px\n",
    "\n",
    "%matplotlib inline"
   ]
  },
  {
   "cell_type": "markdown",
   "id": "2d8f64b1",
   "metadata": {},
   "source": [
    "## Setting up API data \n",
    "This section goes through important steps of setting up Open-Meteo API, Creating instance of the API , defining API URL and required parameters , processing first response data and extracting the daily weather variables from the API response and assigns them to separate variables for further processing then organize them in a dictionary."
   ]
  },
  {
   "cell_type": "code",
   "execution_count": 3,
   "id": "080e4f2e",
   "metadata": {},
   "outputs": [],
   "source": [
    "# Setup the Open-Meteo API client with cache and retry on error\n",
    "#Create API client instance\n",
    "\n",
    "cache_session = requests_cache.CachedSession('.cache', expire_after = -1)\n",
    "retry_session = retry(cache_session, retries = 5, backoff_factor = 0.2)\n",
    "openmeteo = openmeteo_requests.Client(session = retry_session)\n"
   ]
  },
  {
   "cell_type": "code",
   "execution_count": 4,
   "id": "eb2a282e",
   "metadata": {},
   "outputs": [],
   "source": [
    "# Make sure all required weather variables are listed here\n",
    "# The order of variables in hourly or daily is important to assign them correctly below\n",
    "#Define URL and parameters\n",
    "\n",
    "url = \"https://archive-api.open-meteo.com/v1/archive?latitude=24.6877&longitude=46.7219&start_date=2021-01-01&end_date=2024-01-01&daily=weather_code,temperature_2m_max,temperature_2m_min,temperature_2m_mean,apparent_temperature_mean,sunrise,sunset,daylight_duration,rain_sum,precipitation_hours,wind_speed_10m_max,wind_direction_10m_dominant&timezone=auto\"\n",
    "params = {\n",
    "\t\"latitude\": 24.6877,\n",
    "\t\"longitude\": 46.7219,\n",
    "\t\"start_date\": \"2021-01-01\",\n",
    "\t\"end_date\": \"2024-01-01\",\n",
    "\t\"daily\": [\"weather_code\", \"temperature_2m_max\", \"temperature_2m_min\", \"temperature_2m_mean\", \"apparent_temperature_mean\", \"sunrise\", \"sunset\", \"daylight_duration\", \"rain_sum\", \"precipitation_hours\", \"wind_speed_10m_max\", \"wind_direction_10m_dominant\"]\n",
    "}\n",
    "responses = openmeteo.weather_api(url, params=params)\n"
   ]
  },
  {
   "cell_type": "code",
   "execution_count": 5,
   "id": "455f6a38",
   "metadata": {},
   "outputs": [
    {
     "name": "stdout",
     "output_type": "stream",
     "text": [
      "Coordinates 24.71001625061035°N 46.68810272216797°E\n",
      "Elevation 611.0 m asl\n",
      "Timezone b'Asia/Riyadh' b'+03'\n",
      "Timezone difference to GMT+0 10800 s\n"
     ]
    }
   ],
   "source": [
    "\n",
    "# Process first location. Add a for-loop for multiple locations or weather models\n",
    "response = responses[0]\n",
    "print(f\"Coordinates {response.Latitude()}°N {response.Longitude()}°E\")\n",
    "print(f\"Elevation {response.Elevation()} m asl\")\n",
    "print(f\"Timezone {response.Timezone()} {response.TimezoneAbbreviation()}\")\n",
    "print(f\"Timezone difference to GMT+0 {response.UtcOffsetSeconds()} s\")\n"
   ]
  },
  {
   "cell_type": "code",
   "execution_count": 6,
   "id": "2fa86a21",
   "metadata": {},
   "outputs": [
    {
     "name": "stdout",
     "output_type": "stream",
     "text": [
      "            date  weather_code  temperature_2m_max  temperature_2m_min  \\\n",
      "0     2020-12-31          51.0           19.869501           11.469500   \n",
      "1     2020-12-31           0.0           20.819500           11.519500   \n",
      "2     2020-12-31           1.0           21.319500           10.019500   \n",
      "3     2020-12-31          51.0           19.869501           11.319500   \n",
      "4     2020-12-31           1.0           20.619501           11.319500   \n",
      "...          ...           ...                 ...                 ...   \n",
      "1091  2020-12-31           1.0           25.269501           12.519500   \n",
      "1092  2020-12-31          55.0           22.169500           14.919499   \n",
      "1093  2020-12-31          53.0           21.119501           11.969500   \n",
      "1094  2020-12-31           3.0           21.719501           13.019500   \n",
      "1095  2020-12-31           1.0           23.619501           12.969500   \n",
      "\n",
      "      temperature_2m_mean  apparent_temperature_mean    sunrise     sunset  \\\n",
      "0               15.452835                  13.454375 1970-01-01 1970-01-01   \n",
      "1               15.836166                  14.800246 1970-01-01 1970-01-01   \n",
      "2               15.950751                  14.666530 1970-01-01 1970-01-01   \n",
      "3               15.665334                  12.634810 1970-01-01 1970-01-01   \n",
      "4               15.817418                  13.062580 1970-01-01 1970-01-01   \n",
      "...                   ...                        ...        ...        ...   \n",
      "1091            18.684084                  15.721786 1970-01-01 1970-01-01   \n",
      "1092            17.838251                  15.416649 1970-01-01 1970-01-01   \n",
      "1093            16.486168                  14.785617 1970-01-01 1970-01-01   \n",
      "1094            17.192419                  16.174562 1970-01-01 1970-01-01   \n",
      "1095            17.957003                  17.223133 1970-01-01 1970-01-01   \n",
      "\n",
      "      daylight_duration  rain_sum  precipitation_hours  wind_speed_10m_max  \\\n",
      "0          38292.546875       1.0                  6.0           18.678415   \n",
      "1          38315.589844       0.0                  0.0           11.770403   \n",
      "2          38340.441406       0.0                  0.0           14.882420   \n",
      "3          38367.082031       0.6                  3.0           21.388969   \n",
      "4          38395.480469       0.0                  0.0           19.881649   \n",
      "...                 ...       ...                  ...                 ...   \n",
      "1091       38206.300781       0.0                  0.0           24.766848   \n",
      "1092       38220.578125       2.9                  7.0           21.971800   \n",
      "1093       38236.902344       0.9                  1.0           21.915691   \n",
      "1094       38255.230469       0.0                  0.0           21.674870   \n",
      "1095       38275.539062       0.0                  0.0           17.533146   \n",
      "\n",
      "      wind_direction_10m_dominant  \n",
      "0                      135.350052  \n",
      "1                      116.496925  \n",
      "2                      136.674774  \n",
      "3                      129.250763  \n",
      "4                      128.988510  \n",
      "...                           ...  \n",
      "1091                   145.726990  \n",
      "1092                   120.963699  \n",
      "1093                   115.314316  \n",
      "1094                   131.886520  \n",
      "1095                   116.854309  \n",
      "\n",
      "[1096 rows x 13 columns]\n"
     ]
    }
   ],
   "source": [
    "# Process daily data. The order of variables needs to be the same as requested.\n",
    "daily = response.Daily()\n",
    "daily_weather_code = daily.Variables(0).ValuesAsNumpy()\n",
    "daily_temperature_2m_max = daily.Variables(1).ValuesAsNumpy()\n",
    "daily_temperature_2m_min = daily.Variables(2).ValuesAsNumpy()\n",
    "daily_temperature_2m_mean = daily.Variables(3).ValuesAsNumpy()\n",
    "daily_apparent_temperature_mean = daily.Variables(4).ValuesAsNumpy()\n",
    "daily_sunrise = daily.Variables(5).ValuesAsNumpy()\n",
    "daily_sunset = daily.Variables(6).ValuesAsNumpy()\n",
    "daily_daylight_duration = daily.Variables(7).ValuesAsNumpy()\n",
    "daily_rain_sum = daily.Variables(8).ValuesAsNumpy()\n",
    "daily_precipitation_hours = daily.Variables(9).ValuesAsNumpy()\n",
    "daily_wind_speed_10m_max = daily.Variables(10).ValuesAsNumpy()\n",
    "daily_wind_direction_10m_dominant = daily.Variables(11).ValuesAsNumpy()\n",
    "\n",
    "# Convert sunrise, sunset, and date timestamps to datetime objects\n",
    "daily_sunrise = pd.to_datetime(daily_sunrise, format='%Y-%m-%dT%H:%M')\n",
    "daily_sunset = pd.to_datetime(daily_sunset, format='%Y-%m-%dT%H:%M')\n",
    "daily_date = pd.to_datetime(daily.Time(), unit=\"s\", utc=True).date()\n",
    "\n",
    "daily_data = {\n",
    "    \"date\": daily_date,\n",
    "    \"weather_code\": daily_weather_code,\n",
    "    \"temperature_2m_max\": daily_temperature_2m_max,\n",
    "    \"temperature_2m_min\": daily_temperature_2m_min,\n",
    "    \"temperature_2m_mean\": daily_temperature_2m_mean,\n",
    "    \"apparent_temperature_mean\": daily_apparent_temperature_mean,\n",
    "    \"sunrise\": daily_sunrise,\n",
    "    \"sunset\": daily_sunset,\n",
    "    \"daylight_duration\": daily_daylight_duration,\n",
    "    \"rain_sum\": daily_rain_sum,\n",
    "    \"precipitation_hours\": daily_precipitation_hours,\n",
    "    \"wind_speed_10m_max\": daily_wind_speed_10m_max,\n",
    "    \"wind_direction_10m_dominant\": daily_wind_direction_10m_dominant\n",
    "}\n",
    "\n",
    "daily_dataframe = pd.DataFrame(data=daily_data)\n",
    "print(daily_dataframe)\n"
   ]
  },
  {
   "cell_type": "markdown",
   "id": "9478e7a1",
   "metadata": {},
   "source": [
    "# Overview of the Datase\n"
   ]
  },
  {
   "cell_type": "markdown",
   "id": "cc3bdac2",
   "metadata": {},
   "source": [
    "In this section, we are aiming to have a good understanding of our data through doing some visualizing of the patterns, characteristics, and relationships between variables, and we want to introduce some basic information about our dataset, such as its size and head and null values.."
   ]
  },
  {
   "cell_type": "code",
   "execution_count": 7,
   "id": "08e55d78",
   "metadata": {},
   "outputs": [
    {
     "data": {
      "text/plain": [
       "(1096, 13)"
      ]
     },
     "execution_count": 7,
     "metadata": {},
     "output_type": "execute_result"
    }
   ],
   "source": [
    "#number of rows and columns  (dataset size)\n",
    "daily_dataframe.shape"
   ]
  },
  {
   "cell_type": "markdown",
   "id": "aa3f7979",
   "metadata": {},
   "source": [
    "**based on above output**, we have 1096 rows, where each row represent a day, so we have 1096 days.. and we have 13 columns where each column represents an attribute"
   ]
  },
  {
   "cell_type": "code",
   "execution_count": 8,
   "id": "41957934",
   "metadata": {},
   "outputs": [
    {
     "name": "stdout",
     "output_type": "stream",
     "text": [
      "<class 'pandas.core.frame.DataFrame'>\n",
      "RangeIndex: 1096 entries, 0 to 1095\n",
      "Data columns (total 13 columns):\n",
      " #   Column                       Non-Null Count  Dtype         \n",
      "---  ------                       --------------  -----         \n",
      " 0   date                         1096 non-null   object        \n",
      " 1   weather_code                 1096 non-null   float32       \n",
      " 2   temperature_2m_max           1096 non-null   float32       \n",
      " 3   temperature_2m_min           1096 non-null   float32       \n",
      " 4   temperature_2m_mean          1096 non-null   float32       \n",
      " 5   apparent_temperature_mean    1096 non-null   float32       \n",
      " 6   sunrise                      1096 non-null   datetime64[ns]\n",
      " 7   sunset                       1096 non-null   datetime64[ns]\n",
      " 8   daylight_duration            1096 non-null   float32       \n",
      " 9   rain_sum                     1096 non-null   float32       \n",
      " 10  precipitation_hours          1096 non-null   float32       \n",
      " 11  wind_speed_10m_max           1096 non-null   float32       \n",
      " 12  wind_direction_10m_dominant  1096 non-null   float32       \n",
      "dtypes: datetime64[ns](2), float32(10), object(1)\n",
      "memory usage: 68.6+ KB\n",
      "None\n"
     ]
    }
   ],
   "source": [
    "#Important info about the data\n",
    "print(daily_dataframe.info())"
   ]
  },
  {
   "cell_type": "markdown",
   "id": "3139503f",
   "metadata": {},
   "source": [
    "**Our data** consists of 13 columns as we said which are providing information about different aspects. 12 of the columns are numeric varying between int and float types, and the last one of the 13 columns is of Date type which represents the recorded date. While the \"Weather Code\" column contains numerical codes representing weather conditions. The Maximum Temperature, Minimum Temperature and Mean Temperature columns indicate Information about air temperatures recorded in Celsius degrees. However, the Mean Apparent Temperature column takes into account factors like humidity, wind chill, and solar radiation to provide the average perceived temperature. As the Sunrise and Sunset columns denote the times for each day, while the Daylight Duration column records the duration of daylight in seconds. Furthermore, Rain Sum column which indicates the total amount of rainfall measured during the day in millimeters, and Precipitation Hours recording the number of hours with precipitation. Additional columns include Maximum Wind Speed column represents the highest observed wind speed in kilometers per hour, while the Dominant Wind Direction column indicates the primary direction of the wind flow on a given day, measured in degrees. These weather data columns contain helpful information for understanding and assessing weather trends, such as temperatures, rainfall, wind speed, and direction.\n",
    "\n",
    "As a conculsion, this code generated info about the following:\n",
    "1-The total number of rows in the DataFrame. we can concude that we have 1096 rows \"days\".\n",
    "2-The column names and their corresponding data types. we can conclude that we have 13 attributes, these are:\n",
    "2.1:date of type date\n",
    "2.2:weather code of type float\n",
    "2.3:max temperature of type float\n",
    "2.3:min temperature of type float\n",
    "2.3:mean temperature of type float\n",
    "2.4:mean appearnt temp of type float\n",
    "2.5:sunrise of type int\n",
    "2.6:sunset of type int\n",
    "2.7:daylight duration of type float\n",
    "2.8:rain sum of type float\n",
    "2.9:precipitation hours of type float\n",
    "2.10:max wind speed of type float\n",
    "2.11:dominant wind direction of type float\n",
    "\n",
    "3-The number of non-null values in each column. we can notice that all values of all columns for all rows are non-null (no null values in the dataset)\n",
    "4-The memory usage of the DataFrame. which is 68.6 KB\n"
   ]
  },
  {
   "cell_type": "code",
   "execution_count": 9,
   "id": "e95d1c5c",
   "metadata": {},
   "outputs": [
    {
     "data": {
      "text/html": [
       "<div>\n",
       "<style scoped>\n",
       "    .dataframe tbody tr th:only-of-type {\n",
       "        vertical-align: middle;\n",
       "    }\n",
       "\n",
       "    .dataframe tbody tr th {\n",
       "        vertical-align: top;\n",
       "    }\n",
       "\n",
       "    .dataframe thead th {\n",
       "        text-align: right;\n",
       "    }\n",
       "</style>\n",
       "<table border=\"1\" class=\"dataframe\">\n",
       "  <thead>\n",
       "    <tr style=\"text-align: right;\">\n",
       "      <th></th>\n",
       "      <th>date</th>\n",
       "      <th>weather_code</th>\n",
       "      <th>temperature_2m_max</th>\n",
       "      <th>temperature_2m_min</th>\n",
       "      <th>temperature_2m_mean</th>\n",
       "      <th>apparent_temperature_mean</th>\n",
       "      <th>sunrise</th>\n",
       "      <th>sunset</th>\n",
       "      <th>daylight_duration</th>\n",
       "      <th>rain_sum</th>\n",
       "      <th>precipitation_hours</th>\n",
       "      <th>wind_speed_10m_max</th>\n",
       "      <th>wind_direction_10m_dominant</th>\n",
       "    </tr>\n",
       "  </thead>\n",
       "  <tbody>\n",
       "    <tr>\n",
       "      <th>0</th>\n",
       "      <td>2020-12-31</td>\n",
       "      <td>51.0</td>\n",
       "      <td>19.869501</td>\n",
       "      <td>11.4695</td>\n",
       "      <td>15.452835</td>\n",
       "      <td>13.454375</td>\n",
       "      <td>1970-01-01</td>\n",
       "      <td>1970-01-01</td>\n",
       "      <td>38292.546875</td>\n",
       "      <td>1.0</td>\n",
       "      <td>6.0</td>\n",
       "      <td>18.678415</td>\n",
       "      <td>135.350052</td>\n",
       "    </tr>\n",
       "    <tr>\n",
       "      <th>1</th>\n",
       "      <td>2020-12-31</td>\n",
       "      <td>0.0</td>\n",
       "      <td>20.819500</td>\n",
       "      <td>11.5195</td>\n",
       "      <td>15.836166</td>\n",
       "      <td>14.800246</td>\n",
       "      <td>1970-01-01</td>\n",
       "      <td>1970-01-01</td>\n",
       "      <td>38315.589844</td>\n",
       "      <td>0.0</td>\n",
       "      <td>0.0</td>\n",
       "      <td>11.770403</td>\n",
       "      <td>116.496925</td>\n",
       "    </tr>\n",
       "    <tr>\n",
       "      <th>2</th>\n",
       "      <td>2020-12-31</td>\n",
       "      <td>1.0</td>\n",
       "      <td>21.319500</td>\n",
       "      <td>10.0195</td>\n",
       "      <td>15.950751</td>\n",
       "      <td>14.666530</td>\n",
       "      <td>1970-01-01</td>\n",
       "      <td>1970-01-01</td>\n",
       "      <td>38340.441406</td>\n",
       "      <td>0.0</td>\n",
       "      <td>0.0</td>\n",
       "      <td>14.882420</td>\n",
       "      <td>136.674774</td>\n",
       "    </tr>\n",
       "    <tr>\n",
       "      <th>3</th>\n",
       "      <td>2020-12-31</td>\n",
       "      <td>51.0</td>\n",
       "      <td>19.869501</td>\n",
       "      <td>11.3195</td>\n",
       "      <td>15.665334</td>\n",
       "      <td>12.634810</td>\n",
       "      <td>1970-01-01</td>\n",
       "      <td>1970-01-01</td>\n",
       "      <td>38367.082031</td>\n",
       "      <td>0.6</td>\n",
       "      <td>3.0</td>\n",
       "      <td>21.388969</td>\n",
       "      <td>129.250763</td>\n",
       "    </tr>\n",
       "    <tr>\n",
       "      <th>4</th>\n",
       "      <td>2020-12-31</td>\n",
       "      <td>1.0</td>\n",
       "      <td>20.619501</td>\n",
       "      <td>11.3195</td>\n",
       "      <td>15.817418</td>\n",
       "      <td>13.062580</td>\n",
       "      <td>1970-01-01</td>\n",
       "      <td>1970-01-01</td>\n",
       "      <td>38395.480469</td>\n",
       "      <td>0.0</td>\n",
       "      <td>0.0</td>\n",
       "      <td>19.881649</td>\n",
       "      <td>128.988510</td>\n",
       "    </tr>\n",
       "  </tbody>\n",
       "</table>\n",
       "</div>"
      ],
      "text/plain": [
       "         date  weather_code  temperature_2m_max  temperature_2m_min  \\\n",
       "0  2020-12-31          51.0           19.869501             11.4695   \n",
       "1  2020-12-31           0.0           20.819500             11.5195   \n",
       "2  2020-12-31           1.0           21.319500             10.0195   \n",
       "3  2020-12-31          51.0           19.869501             11.3195   \n",
       "4  2020-12-31           1.0           20.619501             11.3195   \n",
       "\n",
       "   temperature_2m_mean  apparent_temperature_mean    sunrise     sunset  \\\n",
       "0            15.452835                  13.454375 1970-01-01 1970-01-01   \n",
       "1            15.836166                  14.800246 1970-01-01 1970-01-01   \n",
       "2            15.950751                  14.666530 1970-01-01 1970-01-01   \n",
       "3            15.665334                  12.634810 1970-01-01 1970-01-01   \n",
       "4            15.817418                  13.062580 1970-01-01 1970-01-01   \n",
       "\n",
       "   daylight_duration  rain_sum  precipitation_hours  wind_speed_10m_max  \\\n",
       "0       38292.546875       1.0                  6.0           18.678415   \n",
       "1       38315.589844       0.0                  0.0           11.770403   \n",
       "2       38340.441406       0.0                  0.0           14.882420   \n",
       "3       38367.082031       0.6                  3.0           21.388969   \n",
       "4       38395.480469       0.0                  0.0           19.881649   \n",
       "\n",
       "   wind_direction_10m_dominant  \n",
       "0                   135.350052  \n",
       "1                   116.496925  \n",
       "2                   136.674774  \n",
       "3                   129.250763  \n",
       "4                   128.988510  "
      ]
     },
     "execution_count": 9,
     "metadata": {},
     "output_type": "execute_result"
    }
   ],
   "source": [
    "#sample of our data\n",
    "daily_dataframe.head()"
   ]
  },
  {
   "cell_type": "markdown",
   "id": "5f227794",
   "metadata": {},
   "source": [
    "**As shown** in the output, we have a sample of the first 5 rows of the dataset (The last day of 2020 and the first 4 days of 2021), with their unprocessed column values, we can notice that these five days' values such as temperature and sunrise and sunset and other values are somewhat close to each other with slight variation due to their consequence data recording days\n"
   ]
  },
  {
   "cell_type": "code",
   "execution_count": 10,
   "id": "8a74c089",
   "metadata": {},
   "outputs": [
    {
     "data": {
      "text/plain": [
       "date                           0\n",
       "weather_code                   0\n",
       "temperature_2m_max             0\n",
       "temperature_2m_min             0\n",
       "temperature_2m_mean            0\n",
       "apparent_temperature_mean      0\n",
       "sunrise                        0\n",
       "sunset                         0\n",
       "daylight_duration              0\n",
       "rain_sum                       0\n",
       "precipitation_hours            0\n",
       "wind_speed_10m_max             0\n",
       "wind_direction_10m_dominant    0\n",
       "dtype: int64"
      ]
     },
     "execution_count": 10,
     "metadata": {},
     "output_type": "execute_result"
    }
   ],
   "source": [
    "#check missing value in the dataset\n",
    "daily_dataframe.isnull().sum()"
   ]
  },
  {
   "cell_type": "markdown",
   "id": "1a587dca",
   "metadata": {},
   "source": [
    "**As shown** in the above code output, we can conclude that we have no null or missing data for any of the columns. As a result, there is no need to fill or drop any of the columns or the rows."
   ]
  },
  {
   "cell_type": "code",
   "execution_count": 11,
   "id": "1dbde76b",
   "metadata": {},
   "outputs": [
    {
     "data": {
      "text/plain": [
       "0"
      ]
     },
     "execution_count": 11,
     "metadata": {},
     "output_type": "execute_result"
    }
   ],
   "source": [
    "#to check duplicate rows and reomve any redundent or useless record\n",
    "sum(daily_dataframe.duplicated())"
   ]
  },
  {
   "cell_type": "markdown",
   "id": "fa427e06",
   "metadata": {},
   "source": [
    "**As seen** from the output, there is no duplicate rows, this indicates that the data is accurate and no logging and data collecting errors been made. Thus, there is no need to perform duplicate-rows handiling such as reomving redundent or useless records as each record represent unique day."
   ]
  },
  {
   "cell_type": "markdown",
   "id": "1e85cf51",
   "metadata": {},
   "source": []
  },
  {
   "cell_type": "markdown",
   "id": "2f7757ec",
   "metadata": {},
   "source": [
    "# EDA Exploratory Data Analysis"
   ]
  },
  {
   "cell_type": "markdown",
   "id": "cfcf5862",
   "metadata": {},
   "source": [
    "In this section, we are going to tread through the critical process of performing initial investigations on data in order to discover patterns and verify assumptions using summary statistics and graphical representations, along with critical transformations on some of the columns to make it easier to manipulate, study, understand, analyze and use the data."
   ]
  },
  {
   "cell_type": "markdown",
   "id": "c1a7ac93",
   "metadata": {},
   "source": [
    "# Univariant EDA"
   ]
  },
  {
   "cell_type": "markdown",
   "id": "568ae150",
   "metadata": {},
   "source": [
    "In this section, we will analyze and visualize the dataset by taking one variable at a time, using different plots and visualization techniques."
   ]
  },
  {
   "cell_type": "code",
   "execution_count": 12,
   "id": "5518fdda",
   "metadata": {},
   "outputs": [
    {
     "name": "stdout",
     "output_type": "stream",
     "text": [
      "       weather_code  temperature_2m_max  temperature_2m_min  \\\n",
      "count   1096.000000         1096.000000         1096.000000   \n",
      "mean       5.220803           33.503391           20.539118   \n",
      "std       14.838178            8.675450            7.586475   \n",
      "min        0.000000           10.919499            0.619500   \n",
      "25%        0.000000           26.369501           14.069500   \n",
      "50%        1.000000           35.044500           21.119501   \n",
      "75%        2.000000           41.469501           27.719501   \n",
      "max       63.000000           45.969501           35.469501   \n",
      "\n",
      "       temperature_2m_mean  apparent_temperature_mean  daylight_duration  \\\n",
      "count          1096.000000                1096.000000        1096.000000   \n",
      "mean             27.280083                  23.947433       43750.300781   \n",
      "std               8.371368                   8.336675        3815.757080   \n",
      "min               6.446583                   1.020123       38165.703125   \n",
      "25%              20.083562                  16.653636       40034.392578   \n",
      "50%              28.454918                  25.138745       43799.718750   \n",
      "75%              35.305438                  31.600630       47465.701172   \n",
      "max              40.513252                  38.634510       49212.839844   \n",
      "\n",
      "          rain_sum  precipitation_hours  wind_speed_10m_max  \\\n",
      "count  1096.000000          1096.000000         1096.000000   \n",
      "mean      0.223723             0.350365           22.201866   \n",
      "std       1.550985             1.643436            6.349328   \n",
      "min       0.000000             0.000000            9.007196   \n",
      "25%       0.000000             0.000000           17.377226   \n",
      "50%       0.000000             0.000000           21.583487   \n",
      "75%       0.000000             0.000000           26.565705   \n",
      "max      27.500002            22.000000           46.662720   \n",
      "\n",
      "       wind_direction_10m_dominant  \n",
      "count                  1096.000000  \n",
      "mean                    156.993134  \n",
      "std                     114.791794  \n",
      "min                       0.063594  \n",
      "25%                      58.288262  \n",
      "50%                     141.964752  \n",
      "75%                     242.119873  \n",
      "max                     359.999969  \n"
     ]
    }
   ],
   "source": [
    "#five statistical summray of the 7 Numerical columns\n",
    "print(daily_dataframe.describe())"
   ]
  },
  {
   "cell_type": "markdown",
   "id": "8ce37a68",
   "metadata": {},
   "source": [
    "Analyzing the results, we can observe the following:\n",
    "\n",
    "1. Weather Code: The wide range of values (0 to 65) indicates the presence of different weather patterns, However, this is a nominal attribute. Thus, we will perform encoding in the next few sections to give it meaning. \n",
    "\n",
    "2. Temperature: The mean maximum temperature (32.415 degrees Celsius) indicates that, on average, the temperature isn't high, providing perfect experience for tourists in Riyadh. The mean minimum temperature (19.393 degrees Celsius) indicated that the temperature drops a bit during cooler seasons, However, it is still considered warm enough for outdoor activities.\n",
    "\n",
    "3. Apparent Temperature: The mean apparent temperature (22.389 degrees Celsius), which might differ from the actual temperature due to factors like wind and humidity. 22 degrees suggest a cool weather for tourists to experience different activities.\n",
    "\n",
    "4. Sunrise, Sunset, and Daylight Duration: The consistent value of 0 for sunrise and sunset indicates that these measurements are missing or not applicable in the dataset, Thus, we will perform data cleaning techniques on them. Also, the average daylight duration (43,752.6 minutes) shows a long duration of daylight experienced.\n",
    "\n",
    "5. Rain Sum and Precipitation Hours: The low mean rain sum (0.322) and precipitation hours (0.418) indicate that, on average, the Capital Riyadh experience low rainfall or precipitation events. This could be due to the location of the city, since it's drier than many other cities in Saudi Arabia.\n",
    "\n",
    "6. Wind Speed and Direction: The mean maximum wind speed (22.511 meters per second) indicates a moderate average wind speed. While The mean dominant wind direction (141.039 degrees)."
   ]
  },
  {
   "cell_type": "code",
   "execution_count": 13,
   "id": "25b6fb36",
   "metadata": {},
   "outputs": [
    {
     "data": {
      "text/html": [
       "<div>\n",
       "<style scoped>\n",
       "    .dataframe tbody tr th:only-of-type {\n",
       "        vertical-align: middle;\n",
       "    }\n",
       "\n",
       "    .dataframe tbody tr th {\n",
       "        vertical-align: top;\n",
       "    }\n",
       "\n",
       "    .dataframe thead th {\n",
       "        text-align: right;\n",
       "    }\n",
       "</style>\n",
       "<table border=\"1\" class=\"dataframe\">\n",
       "  <thead>\n",
       "    <tr style=\"text-align: right;\">\n",
       "      <th></th>\n",
       "      <th>counts</th>\n",
       "    </tr>\n",
       "  </thead>\n",
       "  <tbody>\n",
       "    <tr>\n",
       "      <th>Light</th>\n",
       "      <td>1090</td>\n",
       "    </tr>\n",
       "    <tr>\n",
       "      <th>Moderate</th>\n",
       "      <td>6</td>\n",
       "    </tr>\n",
       "  </tbody>\n",
       "</table>\n",
       "</div>"
      ],
      "text/plain": [
       "          counts\n",
       "Light       1090\n",
       "Moderate       6"
      ]
     },
     "execution_count": 13,
     "metadata": {},
     "output_type": "execute_result"
    }
   ],
   "source": [
    "#count rain_sum for each Level of rainfall in a day based on Weather and Climate Services Division, NCHM\n",
    "CatRain = pd.Series(['Light' if i < 10 \n",
    "                     else 'Moderate' if 10 <= i < 30 \n",
    "                     else 'Heavy' for i in daily_dataframe['rain_sum']])\n",
    "countRain = CatRain.value_counts()\n",
    "\n",
    "pd.concat([countRain], axis=1, keys=['counts'])"
   ]
  },
  {
   "cell_type": "markdown",
   "id": "66c97c5c",
   "metadata": {},
   "source": [
    "As shown in the table, the rain sum in Saudi Arabia specifically in Riyadh classified as Light rain."
   ]
  },
  {
   "cell_type": "code",
   "execution_count": 14,
   "id": "fdb12a92",
   "metadata": {},
   "outputs": [
    {
     "ename": "KeyError",
     "evalue": "\"['sunrise', 'sunset'] not in index\"",
     "output_type": "error",
     "traceback": [
      "\u001b[1;31m---------------------------------------------------------------------------\u001b[0m",
      "\u001b[1;31mKeyError\u001b[0m                                  Traceback (most recent call last)",
      "Cell \u001b[1;32mIn[14], line 4\u001b[0m\n\u001b[0;32m      2\u001b[0m fig \u001b[38;5;241m=\u001b[39m plt\u001b[38;5;241m.\u001b[39mfigure(figsize\u001b[38;5;241m=\u001b[39m(\u001b[38;5;241m30\u001b[39m,\u001b[38;5;241m20\u001b[39m))\n\u001b[0;32m      3\u001b[0m fig\u001b[38;5;241m.\u001b[39madd_subplot(\u001b[38;5;241m3\u001b[39m,\u001b[38;5;241m3\u001b[39m,\u001b[38;5;241m1\u001b[39m)\n\u001b[1;32m----> 4\u001b[0m boxplot\u001b[38;5;241m=\u001b[39mdaily_dataframe\u001b[38;5;241m.\u001b[39mboxplot(column\u001b[38;5;241m=\u001b[39m[\u001b[38;5;124m'\u001b[39m\u001b[38;5;124mapparent_temperature_mean\u001b[39m\u001b[38;5;124m'\u001b[39m,\u001b[38;5;124m'\u001b[39m\u001b[38;5;124msunrise\u001b[39m\u001b[38;5;124m'\u001b[39m , \u001b[38;5;124m'\u001b[39m\u001b[38;5;124msunset\u001b[39m\u001b[38;5;124m'\u001b[39m],notch\u001b[38;5;241m=\u001b[39m\u001b[38;5;28;01mFalse\u001b[39;00m)\n",
      "File \u001b[1;32m~\\anaconda3\\Lib\\site-packages\\pandas\\plotting\\_core.py:516\u001b[0m, in \u001b[0;36mboxplot_frame\u001b[1;34m(self, column, by, ax, fontsize, rot, grid, figsize, layout, return_type, backend, **kwargs)\u001b[0m\n\u001b[0;32m    499\u001b[0m \u001b[38;5;129m@Substitution\u001b[39m(backend\u001b[38;5;241m=\u001b[39m_backend_doc)\n\u001b[0;32m    500\u001b[0m \u001b[38;5;129m@Appender\u001b[39m(_boxplot_doc)\n\u001b[0;32m    501\u001b[0m \u001b[38;5;28;01mdef\u001b[39;00m \u001b[38;5;21mboxplot_frame\u001b[39m(\n\u001b[1;32m   (...)\u001b[0m\n\u001b[0;32m    513\u001b[0m     \u001b[38;5;241m*\u001b[39m\u001b[38;5;241m*\u001b[39mkwargs,\n\u001b[0;32m    514\u001b[0m ):\n\u001b[0;32m    515\u001b[0m     plot_backend \u001b[38;5;241m=\u001b[39m _get_plot_backend(backend)\n\u001b[1;32m--> 516\u001b[0m     \u001b[38;5;28;01mreturn\u001b[39;00m plot_backend\u001b[38;5;241m.\u001b[39mboxplot_frame(\n\u001b[0;32m    517\u001b[0m         \u001b[38;5;28mself\u001b[39m,\n\u001b[0;32m    518\u001b[0m         column\u001b[38;5;241m=\u001b[39mcolumn,\n\u001b[0;32m    519\u001b[0m         by\u001b[38;5;241m=\u001b[39mby,\n\u001b[0;32m    520\u001b[0m         ax\u001b[38;5;241m=\u001b[39max,\n\u001b[0;32m    521\u001b[0m         fontsize\u001b[38;5;241m=\u001b[39mfontsize,\n\u001b[0;32m    522\u001b[0m         rot\u001b[38;5;241m=\u001b[39mrot,\n\u001b[0;32m    523\u001b[0m         grid\u001b[38;5;241m=\u001b[39mgrid,\n\u001b[0;32m    524\u001b[0m         figsize\u001b[38;5;241m=\u001b[39mfigsize,\n\u001b[0;32m    525\u001b[0m         layout\u001b[38;5;241m=\u001b[39mlayout,\n\u001b[0;32m    526\u001b[0m         return_type\u001b[38;5;241m=\u001b[39mreturn_type,\n\u001b[0;32m    527\u001b[0m         \u001b[38;5;241m*\u001b[39m\u001b[38;5;241m*\u001b[39mkwargs,\n\u001b[0;32m    528\u001b[0m     )\n",
      "File \u001b[1;32m~\\anaconda3\\Lib\\site-packages\\pandas\\plotting\\_matplotlib\\boxplot.py:458\u001b[0m, in \u001b[0;36mboxplot_frame\u001b[1;34m(self, column, by, ax, fontsize, rot, grid, figsize, layout, return_type, **kwds)\u001b[0m\n\u001b[0;32m    443\u001b[0m \u001b[38;5;28;01mdef\u001b[39;00m \u001b[38;5;21mboxplot_frame\u001b[39m(\n\u001b[0;32m    444\u001b[0m     \u001b[38;5;28mself\u001b[39m,\n\u001b[0;32m    445\u001b[0m     column\u001b[38;5;241m=\u001b[39m\u001b[38;5;28;01mNone\u001b[39;00m,\n\u001b[1;32m   (...)\u001b[0m\n\u001b[0;32m    454\u001b[0m     \u001b[38;5;241m*\u001b[39m\u001b[38;5;241m*\u001b[39mkwds,\n\u001b[0;32m    455\u001b[0m ):\n\u001b[0;32m    456\u001b[0m     \u001b[38;5;28;01mimport\u001b[39;00m \u001b[38;5;21;01mmatplotlib\u001b[39;00m\u001b[38;5;21;01m.\u001b[39;00m\u001b[38;5;21;01mpyplot\u001b[39;00m \u001b[38;5;28;01mas\u001b[39;00m \u001b[38;5;21;01mplt\u001b[39;00m\n\u001b[1;32m--> 458\u001b[0m     ax \u001b[38;5;241m=\u001b[39m boxplot(\n\u001b[0;32m    459\u001b[0m         \u001b[38;5;28mself\u001b[39m,\n\u001b[0;32m    460\u001b[0m         column\u001b[38;5;241m=\u001b[39mcolumn,\n\u001b[0;32m    461\u001b[0m         by\u001b[38;5;241m=\u001b[39mby,\n\u001b[0;32m    462\u001b[0m         ax\u001b[38;5;241m=\u001b[39max,\n\u001b[0;32m    463\u001b[0m         fontsize\u001b[38;5;241m=\u001b[39mfontsize,\n\u001b[0;32m    464\u001b[0m         grid\u001b[38;5;241m=\u001b[39mgrid,\n\u001b[0;32m    465\u001b[0m         rot\u001b[38;5;241m=\u001b[39mrot,\n\u001b[0;32m    466\u001b[0m         figsize\u001b[38;5;241m=\u001b[39mfigsize,\n\u001b[0;32m    467\u001b[0m         layout\u001b[38;5;241m=\u001b[39mlayout,\n\u001b[0;32m    468\u001b[0m         return_type\u001b[38;5;241m=\u001b[39mreturn_type,\n\u001b[0;32m    469\u001b[0m         \u001b[38;5;241m*\u001b[39m\u001b[38;5;241m*\u001b[39mkwds,\n\u001b[0;32m    470\u001b[0m     )\n\u001b[0;32m    471\u001b[0m     plt\u001b[38;5;241m.\u001b[39mdraw_if_interactive()\n\u001b[0;32m    472\u001b[0m     \u001b[38;5;28;01mreturn\u001b[39;00m ax\n",
      "File \u001b[1;32m~\\anaconda3\\Lib\\site-packages\\pandas\\plotting\\_matplotlib\\boxplot.py:435\u001b[0m, in \u001b[0;36mboxplot\u001b[1;34m(data, column, by, ax, fontsize, rot, grid, figsize, layout, return_type, **kwds)\u001b[0m\n\u001b[0;32m    433\u001b[0m     columns \u001b[38;5;241m=\u001b[39m data\u001b[38;5;241m.\u001b[39mcolumns\n\u001b[0;32m    434\u001b[0m \u001b[38;5;28;01melse\u001b[39;00m:\n\u001b[1;32m--> 435\u001b[0m     data \u001b[38;5;241m=\u001b[39m data[columns]\n\u001b[0;32m    437\u001b[0m result \u001b[38;5;241m=\u001b[39m plot_group(columns, data\u001b[38;5;241m.\u001b[39mvalues\u001b[38;5;241m.\u001b[39mT, ax, \u001b[38;5;241m*\u001b[39m\u001b[38;5;241m*\u001b[39mkwds)\n\u001b[0;32m    438\u001b[0m ax\u001b[38;5;241m.\u001b[39mgrid(grid)\n",
      "File \u001b[1;32m~\\anaconda3\\Lib\\site-packages\\pandas\\core\\frame.py:3813\u001b[0m, in \u001b[0;36mDataFrame.__getitem__\u001b[1;34m(self, key)\u001b[0m\n\u001b[0;32m   3811\u001b[0m     \u001b[38;5;28;01mif\u001b[39;00m is_iterator(key):\n\u001b[0;32m   3812\u001b[0m         key \u001b[38;5;241m=\u001b[39m \u001b[38;5;28mlist\u001b[39m(key)\n\u001b[1;32m-> 3813\u001b[0m     indexer \u001b[38;5;241m=\u001b[39m \u001b[38;5;28mself\u001b[39m\u001b[38;5;241m.\u001b[39mcolumns\u001b[38;5;241m.\u001b[39m_get_indexer_strict(key, \u001b[38;5;124m\"\u001b[39m\u001b[38;5;124mcolumns\u001b[39m\u001b[38;5;124m\"\u001b[39m)[\u001b[38;5;241m1\u001b[39m]\n\u001b[0;32m   3815\u001b[0m \u001b[38;5;66;03m# take() does not accept boolean indexers\u001b[39;00m\n\u001b[0;32m   3816\u001b[0m \u001b[38;5;28;01mif\u001b[39;00m \u001b[38;5;28mgetattr\u001b[39m(indexer, \u001b[38;5;124m\"\u001b[39m\u001b[38;5;124mdtype\u001b[39m\u001b[38;5;124m\"\u001b[39m, \u001b[38;5;28;01mNone\u001b[39;00m) \u001b[38;5;241m==\u001b[39m \u001b[38;5;28mbool\u001b[39m:\n",
      "File \u001b[1;32m~\\anaconda3\\Lib\\site-packages\\pandas\\core\\indexes\\base.py:6070\u001b[0m, in \u001b[0;36mIndex._get_indexer_strict\u001b[1;34m(self, key, axis_name)\u001b[0m\n\u001b[0;32m   6067\u001b[0m \u001b[38;5;28;01melse\u001b[39;00m:\n\u001b[0;32m   6068\u001b[0m     keyarr, indexer, new_indexer \u001b[38;5;241m=\u001b[39m \u001b[38;5;28mself\u001b[39m\u001b[38;5;241m.\u001b[39m_reindex_non_unique(keyarr)\n\u001b[1;32m-> 6070\u001b[0m \u001b[38;5;28mself\u001b[39m\u001b[38;5;241m.\u001b[39m_raise_if_missing(keyarr, indexer, axis_name)\n\u001b[0;32m   6072\u001b[0m keyarr \u001b[38;5;241m=\u001b[39m \u001b[38;5;28mself\u001b[39m\u001b[38;5;241m.\u001b[39mtake(indexer)\n\u001b[0;32m   6073\u001b[0m \u001b[38;5;28;01mif\u001b[39;00m \u001b[38;5;28misinstance\u001b[39m(key, Index):\n\u001b[0;32m   6074\u001b[0m     \u001b[38;5;66;03m# GH 42790 - Preserve name from an Index\u001b[39;00m\n",
      "File \u001b[1;32m~\\anaconda3\\Lib\\site-packages\\pandas\\core\\indexes\\base.py:6133\u001b[0m, in \u001b[0;36mIndex._raise_if_missing\u001b[1;34m(self, key, indexer, axis_name)\u001b[0m\n\u001b[0;32m   6130\u001b[0m     \u001b[38;5;28;01mraise\u001b[39;00m \u001b[38;5;167;01mKeyError\u001b[39;00m(\u001b[38;5;124mf\u001b[39m\u001b[38;5;124m\"\u001b[39m\u001b[38;5;124mNone of [\u001b[39m\u001b[38;5;132;01m{\u001b[39;00mkey\u001b[38;5;132;01m}\u001b[39;00m\u001b[38;5;124m] are in the [\u001b[39m\u001b[38;5;132;01m{\u001b[39;00maxis_name\u001b[38;5;132;01m}\u001b[39;00m\u001b[38;5;124m]\u001b[39m\u001b[38;5;124m\"\u001b[39m)\n\u001b[0;32m   6132\u001b[0m not_found \u001b[38;5;241m=\u001b[39m \u001b[38;5;28mlist\u001b[39m(ensure_index(key)[missing_mask\u001b[38;5;241m.\u001b[39mnonzero()[\u001b[38;5;241m0\u001b[39m]]\u001b[38;5;241m.\u001b[39munique())\n\u001b[1;32m-> 6133\u001b[0m \u001b[38;5;28;01mraise\u001b[39;00m \u001b[38;5;167;01mKeyError\u001b[39;00m(\u001b[38;5;124mf\u001b[39m\u001b[38;5;124m\"\u001b[39m\u001b[38;5;132;01m{\u001b[39;00mnot_found\u001b[38;5;132;01m}\u001b[39;00m\u001b[38;5;124m not in index\u001b[39m\u001b[38;5;124m\"\u001b[39m)\n",
      "\u001b[1;31mKeyError\u001b[0m: \"['sunrise', 'sunset'] not in index\""
     ]
    },
    {
     "data": {
      "image/png": "[encoded data removed]",
      "text/plain": [
       "<Figure size 3000x2000 with 1 Axes>"
      ]
     },
     "metadata": {},
     "output_type": "display_data"
    }
   ],
   "source": [
    "#check for outliers\n",
    "fig = plt.figure(figsize=(30,20))\n",
    "fig.add_subplot(3,3,1)\n",
    "boxplot=daily_dataframe.boxplot(column=['apparent_temperature_mean','sunrise' , 'sunset'],notch=False)\n",
    "# ax = fig.gca()\n",
    "\n",
    "# ax = sns.boxplot(data=daily_dataframe, fliersize=5, linewidth=3, notch=False,\n",
    "#                  saturation=0.5, ax=ax)\n",
    "\n",
    "# ax.set_title('All variables boxplot\\n')\n",
    "# plt.show()"
   ]
  },
  {
   "cell_type": "markdown",
   "id": "0246047d",
   "metadata": {},
   "source": [
    "all data we have is Numerical, we don't need to describe categorica data"
   ]
  },
  {
   "cell_type": "code",
   "execution_count": null,
   "id": "3fc3d396",
   "metadata": {},
   "outputs": [],
   "source": [
    "# Mean Temperature in Riyadh in summer vacation \n",
    "filtered_df = daily_dataframe[(pd.to_datetime(daily_dataframe['date']).dt.month.isin([7, 8]))]\n",
    "\n",
    "figure = px.bar(filtered_df, x=\"date\", y=\"temperature_2m_mean\", title='Mean Temperature in Riyadh - July and August')\n",
    "figure.show()"
   ]
  },
  {
   "cell_type": "markdown",
   "id": "ab93a7d3",
   "metadata": {},
   "source": [
    "As the graph shown, it is representing that the mean temperature in July and Augest -As it is summer vacation time- does not vary much from year to year since it is between 35 to 40 degrees. "
   ]
  },
  {
   "cell_type": "code",
   "execution_count": null,
   "id": "d3c85b6a",
   "metadata": {},
   "outputs": [],
   "source": [
    "figure=px.line(daily_dataframe,x=\"date\",\n",
    "              y=\"wind_speed_10m_max\",title=\"Wind_speed of Riyadh\")\n",
    "figure.show()\n"
   ]
  },
  {
   "cell_type": "code",
   "execution_count": null,
   "id": "c18798d6",
   "metadata": {},
   "outputs": [],
   "source": [
    "figure=px.scatter(data_frame =daily_dataframe,x=\"wind_speed_10m_max\",\n",
    "                 y=\"temperature_2m_mean\",size=\"temperature_2m_mean\",\n",
    "                 trendline=\"ols\",title=\"Relationship between temperature and wind speed\")\n",
    "figure.show()"
   ]
  },
  {
   "cell_type": "code",
   "execution_count": null,
   "id": "4da5be76",
   "metadata": {},
   "outputs": [],
   "source": [
    "weather_counts = daily_dataframe['weather_code'].value_counts()\n",
    " \n",
    "plt.figure(figsize=(8, 6))\n",
    "plt.bar(weather_counts.index, weather_counts, color='blue')\n",
    "plt.title('Count Plot of Weather')\n",
    "plt.xlabel('Weather')\n",
    "plt.ylabel('Count')\n",
    "plt.show()"
   ]
  },
  {
   "cell_type": "markdown",
   "id": "b66249c0",
   "metadata": {},
   "source": []
  }
 ],
 "metadata": {
  "kernelspec": {
   "display_name": "Python 3 (ipykernel)",
   "language": "python",
   "name": "python3"
  },
  "language_info": {
   "codemirror_mode": {
    "name": "ipython",
    "version": 3
   },
   "file_extension": ".py",
   "mimetype": "text/x-python",
   "name": "python",
   "nbconvert_exporter": "python",
   "pygments_lexer": "ipython3",
   "version": "3.11.4"
  }
 },
 "nbformat": 4,
 "nbformat_minor": 5
}
